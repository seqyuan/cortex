{
 "cells": [
  {
   "cell_type": "markdown",
   "metadata": {},
   "source": [
    "# 不同物种同源基因转换"
   ]
  },
  {
   "cell_type": "code",
   "execution_count": 2,
   "metadata": {
    "vscode": {
     "languageId": "r"
    }
   },
   "outputs": [
    {
     "name": "stderr",
     "output_type": "stream",
     "text": [
      "Attaching SeuratObject\n",
      "\n"
     ]
    }
   ],
   "source": [
    "library(biomaRt)\n",
    "library(Seurat)"
   ]
  },
  {
   "cell_type": "markdown",
   "metadata": {},
   "source": [
    "### 查看特定 'ensembl' 数据库的数据集"
   ]
  },
  {
   "cell_type": "code",
   "execution_count": 20,
   "metadata": {
    "vscode": {
     "languageId": "r"
    }
   },
   "outputs": [
    {
     "data": {
      "text/html": [
       "<style>\n",
       ".list-inline {list-style: none; margin:0; padding: 0}\n",
       ".list-inline>li {display: inline-block}\n",
       ".list-inline>li:not(:last-child)::after {content: \"\\00b7\"; padding: 0 .5ex}\n",
       "</style>\n",
       "<ol class=list-inline><li>215</li><li>3</li></ol>\n"
      ],
      "text/latex": [
       "\\begin{enumerate*}\n",
       "\\item 215\n",
       "\\item 3\n",
       "\\end{enumerate*}\n"
      ],
      "text/markdown": [
       "1. 215\n",
       "2. 3\n",
       "\n",
       "\n"
      ],
      "text/plain": [
       "[1] 215   3"
      ]
     },
     "metadata": {},
     "output_type": "display_data"
    },
    {
     "data": {
      "text/html": [
       "<table class=\"dataframe\">\n",
       "<caption>A data.frame: 5 × 3</caption>\n",
       "<thead>\n",
       "\t<tr><th></th><th scope=col>dataset</th><th scope=col>description</th><th scope=col>version</th></tr>\n",
       "\t<tr><th></th><th scope=col>&lt;I&lt;chr&gt;&gt;</th><th scope=col>&lt;I&lt;chr&gt;&gt;</th><th scope=col>&lt;I&lt;chr&gt;&gt;</th></tr>\n",
       "</thead>\n",
       "<tbody>\n",
       "\t<tr><th scope=row>1</th><td>abrachyrhynchus_gene_ensembl</td><td>Pink-footed goose genes (ASM259213v1)</td><td>ASM259213v1</td></tr>\n",
       "\t<tr><th scope=row>2</th><td>acalliptera_gene_ensembl    </td><td>Eastern happy genes (fAstCal1.2)     </td><td>fAstCal1.2 </td></tr>\n",
       "\t<tr><th scope=row>3</th><td>acarolinensis_gene_ensembl  </td><td>Green anole genes (AnoCar2.0v2)      </td><td>AnoCar2.0v2</td></tr>\n",
       "\t<tr><th scope=row>4</th><td>acchrysaetos_gene_ensembl   </td><td>Golden eagle genes (bAquChr1.2)      </td><td>bAquChr1.2 </td></tr>\n",
       "\t<tr><th scope=row>5</th><td>acitrinellus_gene_ensembl   </td><td>Midas cichlid genes (Midas_v5)       </td><td>Midas_v5   </td></tr>\n",
       "</tbody>\n",
       "</table>\n"
      ],
      "text/latex": [
       "A data.frame: 5 × 3\n",
       "\\begin{tabular}{r|lll}\n",
       "  & dataset & description & version\\\\\n",
       "  & <I<chr>> & <I<chr>> & <I<chr>>\\\\\n",
       "\\hline\n",
       "\t1 & abrachyrhynchus\\_gene\\_ensembl & Pink-footed goose genes (ASM259213v1) & ASM259213v1\\\\\n",
       "\t2 & acalliptera\\_gene\\_ensembl     & Eastern happy genes (fAstCal1.2)      & fAstCal1.2 \\\\\n",
       "\t3 & acarolinensis\\_gene\\_ensembl   & Green anole genes (AnoCar2.0v2)       & AnoCar2.0v2\\\\\n",
       "\t4 & acchrysaetos\\_gene\\_ensembl    & Golden eagle genes (bAquChr1.2)       & bAquChr1.2 \\\\\n",
       "\t5 & acitrinellus\\_gene\\_ensembl    & Midas cichlid genes (Midas\\_v5)        & Midas\\_v5   \\\\\n",
       "\\end{tabular}\n"
      ],
      "text/markdown": [
       "\n",
       "A data.frame: 5 × 3\n",
       "\n",
       "| <!--/--> | dataset &lt;I&lt;chr&gt;&gt; | description &lt;I&lt;chr&gt;&gt; | version &lt;I&lt;chr&gt;&gt; |\n",
       "|---|---|---|---|\n",
       "| 1 | abrachyrhynchus_gene_ensembl | Pink-footed goose genes (ASM259213v1) | ASM259213v1 |\n",
       "| 2 | acalliptera_gene_ensembl     | Eastern happy genes (fAstCal1.2)      | fAstCal1.2  |\n",
       "| 3 | acarolinensis_gene_ensembl   | Green anole genes (AnoCar2.0v2)       | AnoCar2.0v2 |\n",
       "| 4 | acchrysaetos_gene_ensembl    | Golden eagle genes (bAquChr1.2)       | bAquChr1.2  |\n",
       "| 5 | acitrinellus_gene_ensembl    | Midas cichlid genes (Midas_v5)        | Midas_v5    |\n",
       "\n"
      ],
      "text/plain": [
       "  dataset                      description                          \n",
       "1 abrachyrhynchus_gene_ensembl Pink-footed goose genes (ASM259213v1)\n",
       "2 acalliptera_gene_ensembl     Eastern happy genes (fAstCal1.2)     \n",
       "3 acarolinensis_gene_ensembl   Green anole genes (AnoCar2.0v2)      \n",
       "4 acchrysaetos_gene_ensembl    Golden eagle genes (bAquChr1.2)      \n",
       "5 acitrinellus_gene_ensembl    Midas cichlid genes (Midas_v5)       \n",
       "  version    \n",
       "1 ASM259213v1\n",
       "2 fAstCal1.2 \n",
       "3 AnoCar2.0v2\n",
       "4 bAquChr1.2 \n",
       "5 Midas_v5   "
      ]
     },
     "metadata": {},
     "output_type": "display_data"
    }
   ],
   "source": [
    "ensembl <- useMart(\"ensembl\")\n",
    "DBlist = listDatasets(ensembl)\n",
    "dim(DBlist)\n",
    "head(DBlist, 5)"
   ]
  },
  {
   "cell_type": "markdown",
   "metadata": {},
   "source": [
    "### 选择人、猴数据库"
   ]
  },
  {
   "cell_type": "code",
   "execution_count": 61,
   "metadata": {
    "vscode": {
     "languageId": "r"
    }
   },
   "outputs": [
    {
     "name": "stderr",
     "output_type": "stream",
     "text": [
      "Ensembl site unresponsive, trying uswest mirror\n",
      "\n"
     ]
    }
   ],
   "source": [
    "ensembl.macaque <- useMart(\"ensembl\", dataset = \"mmulatta_gene_ensembl\", host = \"http://dec2021.archive.ensembl.org/\")"
   ]
  },
  {
   "cell_type": "code",
   "execution_count": 62,
   "metadata": {
    "vscode": {
     "languageId": "r"
    }
   },
   "outputs": [
    {
     "name": "stderr",
     "output_type": "stream",
     "text": [
      "Ensembl site unresponsive, trying uswest mirror\n",
      "\n"
     ]
    }
   ],
   "source": [
    "ensembl.human <- useMart(\"ensembl\", dataset = \"hsapiens_gene_ensembl\", host = \"http://dec2021.archive.ensembl.org/\")"
   ]
  },
  {
   "cell_type": "markdown",
   "metadata": {},
   "source": [
    "#### ref\n",
    "* https://www.jianshu.com/p/abf5138e3757"
   ]
  },
  {
   "cell_type": "markdown",
   "metadata": {},
   "source": [
    "## listAttributes函数查看可选择输出的类型"
   ]
  },
  {
   "cell_type": "code",
   "execution_count": 64,
   "metadata": {
    "vscode": {
     "languageId": "r"
    }
   },
   "outputs": [
    {
     "data": {
      "text/html": [
       "<table class=\"dataframe\">\n",
       "<caption>A data.frame: 2965 × 3</caption>\n",
       "<thead>\n",
       "\t<tr><th scope=col>name</th><th scope=col>description</th><th scope=col>page</th></tr>\n",
       "\t<tr><th scope=col>&lt;chr&gt;</th><th scope=col>&lt;chr&gt;</th><th scope=col>&lt;chr&gt;</th></tr>\n",
       "</thead>\n",
       "<tbody>\n",
       "\t<tr><td>ensembl_gene_id                </td><td>Gene stable ID                            </td><td>feature_page</td></tr>\n",
       "\t<tr><td>ensembl_gene_id_version        </td><td>Gene stable ID version                    </td><td>feature_page</td></tr>\n",
       "\t<tr><td>ensembl_transcript_id          </td><td>Transcript stable ID                      </td><td>feature_page</td></tr>\n",
       "\t<tr><td>ensembl_transcript_id_version  </td><td>Transcript stable ID version              </td><td>feature_page</td></tr>\n",
       "\t<tr><td>ensembl_peptide_id             </td><td>Protein stable ID                         </td><td>feature_page</td></tr>\n",
       "\t<tr><td>ensembl_peptide_id_version     </td><td>Protein stable ID version                 </td><td>feature_page</td></tr>\n",
       "\t<tr><td>ensembl_exon_id                </td><td>Exon stable ID                            </td><td>feature_page</td></tr>\n",
       "\t<tr><td>description                    </td><td>Gene description                          </td><td>feature_page</td></tr>\n",
       "\t<tr><td>chromosome_name                </td><td>Chromosome/scaffold name                  </td><td>feature_page</td></tr>\n",
       "\t<tr><td>start_position                 </td><td>Gene start (bp)                           </td><td>feature_page</td></tr>\n",
       "\t<tr><td>end_position                   </td><td>Gene end (bp)                             </td><td>feature_page</td></tr>\n",
       "\t<tr><td>strand                         </td><td>Strand                                    </td><td>feature_page</td></tr>\n",
       "\t<tr><td>band                           </td><td>Karyotype band                            </td><td>feature_page</td></tr>\n",
       "\t<tr><td>transcript_start               </td><td>Transcript start (bp)                     </td><td>feature_page</td></tr>\n",
       "\t<tr><td>transcript_end                 </td><td>Transcript end (bp)                       </td><td>feature_page</td></tr>\n",
       "\t<tr><td>transcription_start_site       </td><td>Transcription start site (TSS)            </td><td>feature_page</td></tr>\n",
       "\t<tr><td>transcript_length              </td><td>Transcript length (including UTRs and CDS)</td><td>feature_page</td></tr>\n",
       "\t<tr><td>external_gene_name             </td><td>Gene name                                 </td><td>feature_page</td></tr>\n",
       "\t<tr><td>external_gene_source           </td><td>Source of gene name                       </td><td>feature_page</td></tr>\n",
       "\t<tr><td>external_transcript_name       </td><td>Transcript name                           </td><td>feature_page</td></tr>\n",
       "\t<tr><td>external_transcript_source_name</td><td>Source of transcript name                 </td><td>feature_page</td></tr>\n",
       "\t<tr><td>transcript_count               </td><td>Transcript count                          </td><td>feature_page</td></tr>\n",
       "\t<tr><td>percentage_gene_gc_content     </td><td>Gene % GC content                         </td><td>feature_page</td></tr>\n",
       "\t<tr><td>gene_biotype                   </td><td>Gene type                                 </td><td>feature_page</td></tr>\n",
       "\t<tr><td>transcript_biotype             </td><td>Transcript type                           </td><td>feature_page</td></tr>\n",
       "\t<tr><td>source                         </td><td>Source (gene)                             </td><td>feature_page</td></tr>\n",
       "\t<tr><td>transcript_source              </td><td>Source (transcript)                       </td><td>feature_page</td></tr>\n",
       "\t<tr><td>version                        </td><td>Version (gene)                            </td><td>feature_page</td></tr>\n",
       "\t<tr><td>transcript_version             </td><td>Version (transcript)                      </td><td>feature_page</td></tr>\n",
       "\t<tr><td>peptide_version                </td><td>Version (protein)                         </td><td>feature_page</td></tr>\n",
       "\t<tr><td>⋮</td><td>⋮</td><td>⋮</td></tr>\n",
       "\t<tr><td>5_utr_end                    </td><td>5' UTR end                                </td><td>sequences</td></tr>\n",
       "\t<tr><td>3_utr_start                  </td><td>3' UTR start                              </td><td>sequences</td></tr>\n",
       "\t<tr><td>3_utr_end                    </td><td>3' UTR end                                </td><td>sequences</td></tr>\n",
       "\t<tr><td>ensembl_transcript_id        </td><td>Transcript stable ID                      </td><td>sequences</td></tr>\n",
       "\t<tr><td>ensembl_transcript_id_version</td><td>Transcript stable ID version              </td><td>sequences</td></tr>\n",
       "\t<tr><td>ensembl_peptide_id           </td><td>Protein stable ID                         </td><td>sequences</td></tr>\n",
       "\t<tr><td>ensembl_peptide_id_version   </td><td>Protein stable ID version                 </td><td>sequences</td></tr>\n",
       "\t<tr><td>transcript_biotype           </td><td>Transcript type                           </td><td>sequences</td></tr>\n",
       "\t<tr><td>transcript_version           </td><td>Version (transcript)                      </td><td>sequences</td></tr>\n",
       "\t<tr><td>peptide_version              </td><td>Version (protein)                         </td><td>sequences</td></tr>\n",
       "\t<tr><td>strand                       </td><td>Strand                                    </td><td>sequences</td></tr>\n",
       "\t<tr><td>transcript_start             </td><td>Transcript start (bp)                     </td><td>sequences</td></tr>\n",
       "\t<tr><td>transcript_end               </td><td>Transcript end (bp)                       </td><td>sequences</td></tr>\n",
       "\t<tr><td>transcription_start_site     </td><td>Transcription start site (TSS)            </td><td>sequences</td></tr>\n",
       "\t<tr><td>transcript_length            </td><td>Transcript length (including UTRs and CDS)</td><td>sequences</td></tr>\n",
       "\t<tr><td>cds_length                   </td><td>CDS Length                                </td><td>sequences</td></tr>\n",
       "\t<tr><td>cds_start                    </td><td>CDS start                                 </td><td>sequences</td></tr>\n",
       "\t<tr><td>cds_end                      </td><td>CDS end                                   </td><td>sequences</td></tr>\n",
       "\t<tr><td>ensembl_exon_id              </td><td>Exon stable ID                            </td><td>sequences</td></tr>\n",
       "\t<tr><td>exon_chrom_start             </td><td>Exon region start (bp)                    </td><td>sequences</td></tr>\n",
       "\t<tr><td>exon_chrom_end               </td><td>Exon region end (bp)                      </td><td>sequences</td></tr>\n",
       "\t<tr><td>strand                       </td><td>Strand                                    </td><td>sequences</td></tr>\n",
       "\t<tr><td>rank                         </td><td>Exon rank in transcript                   </td><td>sequences</td></tr>\n",
       "\t<tr><td>phase                        </td><td>Start phase                               </td><td>sequences</td></tr>\n",
       "\t<tr><td>end_phase                    </td><td>End phase                                 </td><td>sequences</td></tr>\n",
       "\t<tr><td>cdna_coding_start            </td><td>cDNA coding start                         </td><td>sequences</td></tr>\n",
       "\t<tr><td>cdna_coding_end              </td><td>cDNA coding end                           </td><td>sequences</td></tr>\n",
       "\t<tr><td>genomic_coding_start         </td><td>Genomic coding start                      </td><td>sequences</td></tr>\n",
       "\t<tr><td>genomic_coding_end           </td><td>Genomic coding end                        </td><td>sequences</td></tr>\n",
       "\t<tr><td>is_constitutive              </td><td>Constitutive exon                         </td><td>sequences</td></tr>\n",
       "</tbody>\n",
       "</table>\n"
      ],
      "text/latex": [
       "A data.frame: 2965 × 3\n",
       "\\begin{tabular}{lll}\n",
       " name & description & page\\\\\n",
       " <chr> & <chr> & <chr>\\\\\n",
       "\\hline\n",
       "\t ensembl\\_gene\\_id                 & Gene stable ID                             & feature\\_page\\\\\n",
       "\t ensembl\\_gene\\_id\\_version         & Gene stable ID version                     & feature\\_page\\\\\n",
       "\t ensembl\\_transcript\\_id           & Transcript stable ID                       & feature\\_page\\\\\n",
       "\t ensembl\\_transcript\\_id\\_version   & Transcript stable ID version               & feature\\_page\\\\\n",
       "\t ensembl\\_peptide\\_id              & Protein stable ID                          & feature\\_page\\\\\n",
       "\t ensembl\\_peptide\\_id\\_version      & Protein stable ID version                  & feature\\_page\\\\\n",
       "\t ensembl\\_exon\\_id                 & Exon stable ID                             & feature\\_page\\\\\n",
       "\t description                     & Gene description                           & feature\\_page\\\\\n",
       "\t chromosome\\_name                 & Chromosome/scaffold name                   & feature\\_page\\\\\n",
       "\t start\\_position                  & Gene start (bp)                            & feature\\_page\\\\\n",
       "\t end\\_position                    & Gene end (bp)                              & feature\\_page\\\\\n",
       "\t strand                          & Strand                                     & feature\\_page\\\\\n",
       "\t band                            & Karyotype band                             & feature\\_page\\\\\n",
       "\t transcript\\_start                & Transcript start (bp)                      & feature\\_page\\\\\n",
       "\t transcript\\_end                  & Transcript end (bp)                        & feature\\_page\\\\\n",
       "\t transcription\\_start\\_site        & Transcription start site (TSS)             & feature\\_page\\\\\n",
       "\t transcript\\_length               & Transcript length (including UTRs and CDS) & feature\\_page\\\\\n",
       "\t external\\_gene\\_name              & Gene name                                  & feature\\_page\\\\\n",
       "\t external\\_gene\\_source            & Source of gene name                        & feature\\_page\\\\\n",
       "\t external\\_transcript\\_name        & Transcript name                            & feature\\_page\\\\\n",
       "\t external\\_transcript\\_source\\_name & Source of transcript name                  & feature\\_page\\\\\n",
       "\t transcript\\_count                & Transcript count                           & feature\\_page\\\\\n",
       "\t percentage\\_gene\\_gc\\_content      & Gene \\% GC content                          & feature\\_page\\\\\n",
       "\t gene\\_biotype                    & Gene type                                  & feature\\_page\\\\\n",
       "\t transcript\\_biotype              & Transcript type                            & feature\\_page\\\\\n",
       "\t source                          & Source (gene)                              & feature\\_page\\\\\n",
       "\t transcript\\_source               & Source (transcript)                        & feature\\_page\\\\\n",
       "\t version                         & Version (gene)                             & feature\\_page\\\\\n",
       "\t transcript\\_version              & Version (transcript)                       & feature\\_page\\\\\n",
       "\t peptide\\_version                 & Version (protein)                          & feature\\_page\\\\\n",
       "\t ⋮ & ⋮ & ⋮\\\\\n",
       "\t 5\\_utr\\_end                     & 5' UTR end                                 & sequences\\\\\n",
       "\t 3\\_utr\\_start                   & 3' UTR start                               & sequences\\\\\n",
       "\t 3\\_utr\\_end                     & 3' UTR end                                 & sequences\\\\\n",
       "\t ensembl\\_transcript\\_id         & Transcript stable ID                       & sequences\\\\\n",
       "\t ensembl\\_transcript\\_id\\_version & Transcript stable ID version               & sequences\\\\\n",
       "\t ensembl\\_peptide\\_id            & Protein stable ID                          & sequences\\\\\n",
       "\t ensembl\\_peptide\\_id\\_version    & Protein stable ID version                  & sequences\\\\\n",
       "\t transcript\\_biotype            & Transcript type                            & sequences\\\\\n",
       "\t transcript\\_version            & Version (transcript)                       & sequences\\\\\n",
       "\t peptide\\_version               & Version (protein)                          & sequences\\\\\n",
       "\t strand                        & Strand                                     & sequences\\\\\n",
       "\t transcript\\_start              & Transcript start (bp)                      & sequences\\\\\n",
       "\t transcript\\_end                & Transcript end (bp)                        & sequences\\\\\n",
       "\t transcription\\_start\\_site      & Transcription start site (TSS)             & sequences\\\\\n",
       "\t transcript\\_length             & Transcript length (including UTRs and CDS) & sequences\\\\\n",
       "\t cds\\_length                    & CDS Length                                 & sequences\\\\\n",
       "\t cds\\_start                     & CDS start                                  & sequences\\\\\n",
       "\t cds\\_end                       & CDS end                                    & sequences\\\\\n",
       "\t ensembl\\_exon\\_id               & Exon stable ID                             & sequences\\\\\n",
       "\t exon\\_chrom\\_start              & Exon region start (bp)                     & sequences\\\\\n",
       "\t exon\\_chrom\\_end                & Exon region end (bp)                       & sequences\\\\\n",
       "\t strand                        & Strand                                     & sequences\\\\\n",
       "\t rank                          & Exon rank in transcript                    & sequences\\\\\n",
       "\t phase                         & Start phase                                & sequences\\\\\n",
       "\t end\\_phase                     & End phase                                  & sequences\\\\\n",
       "\t cdna\\_coding\\_start             & cDNA coding start                          & sequences\\\\\n",
       "\t cdna\\_coding\\_end               & cDNA coding end                            & sequences\\\\\n",
       "\t genomic\\_coding\\_start          & Genomic coding start                       & sequences\\\\\n",
       "\t genomic\\_coding\\_end            & Genomic coding end                         & sequences\\\\\n",
       "\t is\\_constitutive               & Constitutive exon                          & sequences\\\\\n",
       "\\end{tabular}\n"
      ],
      "text/markdown": [
       "\n",
       "A data.frame: 2965 × 3\n",
       "\n",
       "| name &lt;chr&gt; | description &lt;chr&gt; | page &lt;chr&gt; |\n",
       "|---|---|---|\n",
       "| ensembl_gene_id                 | Gene stable ID                             | feature_page |\n",
       "| ensembl_gene_id_version         | Gene stable ID version                     | feature_page |\n",
       "| ensembl_transcript_id           | Transcript stable ID                       | feature_page |\n",
       "| ensembl_transcript_id_version   | Transcript stable ID version               | feature_page |\n",
       "| ensembl_peptide_id              | Protein stable ID                          | feature_page |\n",
       "| ensembl_peptide_id_version      | Protein stable ID version                  | feature_page |\n",
       "| ensembl_exon_id                 | Exon stable ID                             | feature_page |\n",
       "| description                     | Gene description                           | feature_page |\n",
       "| chromosome_name                 | Chromosome/scaffold name                   | feature_page |\n",
       "| start_position                  | Gene start (bp)                            | feature_page |\n",
       "| end_position                    | Gene end (bp)                              | feature_page |\n",
       "| strand                          | Strand                                     | feature_page |\n",
       "| band                            | Karyotype band                             | feature_page |\n",
       "| transcript_start                | Transcript start (bp)                      | feature_page |\n",
       "| transcript_end                  | Transcript end (bp)                        | feature_page |\n",
       "| transcription_start_site        | Transcription start site (TSS)             | feature_page |\n",
       "| transcript_length               | Transcript length (including UTRs and CDS) | feature_page |\n",
       "| external_gene_name              | Gene name                                  | feature_page |\n",
       "| external_gene_source            | Source of gene name                        | feature_page |\n",
       "| external_transcript_name        | Transcript name                            | feature_page |\n",
       "| external_transcript_source_name | Source of transcript name                  | feature_page |\n",
       "| transcript_count                | Transcript count                           | feature_page |\n",
       "| percentage_gene_gc_content      | Gene % GC content                          | feature_page |\n",
       "| gene_biotype                    | Gene type                                  | feature_page |\n",
       "| transcript_biotype              | Transcript type                            | feature_page |\n",
       "| source                          | Source (gene)                              | feature_page |\n",
       "| transcript_source               | Source (transcript)                        | feature_page |\n",
       "| version                         | Version (gene)                             | feature_page |\n",
       "| transcript_version              | Version (transcript)                       | feature_page |\n",
       "| peptide_version                 | Version (protein)                          | feature_page |\n",
       "| ⋮ | ⋮ | ⋮ |\n",
       "| 5_utr_end                     | 5' UTR end                                 | sequences |\n",
       "| 3_utr_start                   | 3' UTR start                               | sequences |\n",
       "| 3_utr_end                     | 3' UTR end                                 | sequences |\n",
       "| ensembl_transcript_id         | Transcript stable ID                       | sequences |\n",
       "| ensembl_transcript_id_version | Transcript stable ID version               | sequences |\n",
       "| ensembl_peptide_id            | Protein stable ID                          | sequences |\n",
       "| ensembl_peptide_id_version    | Protein stable ID version                  | sequences |\n",
       "| transcript_biotype            | Transcript type                            | sequences |\n",
       "| transcript_version            | Version (transcript)                       | sequences |\n",
       "| peptide_version               | Version (protein)                          | sequences |\n",
       "| strand                        | Strand                                     | sequences |\n",
       "| transcript_start              | Transcript start (bp)                      | sequences |\n",
       "| transcript_end                | Transcript end (bp)                        | sequences |\n",
       "| transcription_start_site      | Transcription start site (TSS)             | sequences |\n",
       "| transcript_length             | Transcript length (including UTRs and CDS) | sequences |\n",
       "| cds_length                    | CDS Length                                 | sequences |\n",
       "| cds_start                     | CDS start                                  | sequences |\n",
       "| cds_end                       | CDS end                                    | sequences |\n",
       "| ensembl_exon_id               | Exon stable ID                             | sequences |\n",
       "| exon_chrom_start              | Exon region start (bp)                     | sequences |\n",
       "| exon_chrom_end                | Exon region end (bp)                       | sequences |\n",
       "| strand                        | Strand                                     | sequences |\n",
       "| rank                          | Exon rank in transcript                    | sequences |\n",
       "| phase                         | Start phase                                | sequences |\n",
       "| end_phase                     | End phase                                  | sequences |\n",
       "| cdna_coding_start             | cDNA coding start                          | sequences |\n",
       "| cdna_coding_end               | cDNA coding end                            | sequences |\n",
       "| genomic_coding_start          | Genomic coding start                       | sequences |\n",
       "| genomic_coding_end            | Genomic coding end                         | sequences |\n",
       "| is_constitutive               | Constitutive exon                          | sequences |\n",
       "\n"
      ],
      "text/plain": [
       "       name                           \n",
       "1      ensembl_gene_id                \n",
       "2      ensembl_gene_id_version        \n",
       "3      ensembl_transcript_id          \n",
       "4      ensembl_transcript_id_version  \n",
       "5      ensembl_peptide_id             \n",
       "6      ensembl_peptide_id_version     \n",
       "7      ensembl_exon_id                \n",
       "8      description                    \n",
       "9      chromosome_name                \n",
       "10     start_position                 \n",
       "11     end_position                   \n",
       "12     strand                         \n",
       "13     band                           \n",
       "14     transcript_start               \n",
       "15     transcript_end                 \n",
       "16     transcription_start_site       \n",
       "17     transcript_length              \n",
       "18     external_gene_name             \n",
       "19     external_gene_source           \n",
       "20     external_transcript_name       \n",
       "21     external_transcript_source_name\n",
       "22     transcript_count               \n",
       "23     percentage_gene_gc_content     \n",
       "24     gene_biotype                   \n",
       "25     transcript_biotype             \n",
       "26     source                         \n",
       "27     transcript_source              \n",
       "28     version                        \n",
       "29     transcript_version             \n",
       "30     peptide_version                \n",
       "<U+22EE> <U+22EE>                       \n",
       "2936   5_utr_end                      \n",
       "2937   3_utr_start                    \n",
       "2938   3_utr_end                      \n",
       "2939   ensembl_transcript_id          \n",
       "2940   ensembl_transcript_id_version  \n",
       "2941   ensembl_peptide_id             \n",
       "2942   ensembl_peptide_id_version     \n",
       "2943   transcript_biotype             \n",
       "2944   transcript_version             \n",
       "2945   peptide_version                \n",
       "2946   strand                         \n",
       "2947   transcript_start               \n",
       "2948   transcript_end                 \n",
       "2949   transcription_start_site       \n",
       "2950   transcript_length              \n",
       "2951   cds_length                     \n",
       "2952   cds_start                      \n",
       "2953   cds_end                        \n",
       "2954   ensembl_exon_id                \n",
       "2955   exon_chrom_start               \n",
       "2956   exon_chrom_end                 \n",
       "2957   strand                         \n",
       "2958   rank                           \n",
       "2959   phase                          \n",
       "2960   end_phase                      \n",
       "2961   cdna_coding_start              \n",
       "2962   cdna_coding_end                \n",
       "2963   genomic_coding_start           \n",
       "2964   genomic_coding_end             \n",
       "2965   is_constitutive                \n",
       "       description                                page        \n",
       "1      Gene stable ID                             feature_page\n",
       "2      Gene stable ID version                     feature_page\n",
       "3      Transcript stable ID                       feature_page\n",
       "4      Transcript stable ID version               feature_page\n",
       "5      Protein stable ID                          feature_page\n",
       "6      Protein stable ID version                  feature_page\n",
       "7      Exon stable ID                             feature_page\n",
       "8      Gene description                           feature_page\n",
       "9      Chromosome/scaffold name                   feature_page\n",
       "10     Gene start (bp)                            feature_page\n",
       "11     Gene end (bp)                              feature_page\n",
       "12     Strand                                     feature_page\n",
       "13     Karyotype band                             feature_page\n",
       "14     Transcript start (bp)                      feature_page\n",
       "15     Transcript end (bp)                        feature_page\n",
       "16     Transcription start site (TSS)             feature_page\n",
       "17     Transcript length (including UTRs and CDS) feature_page\n",
       "18     Gene name                                  feature_page\n",
       "19     Source of gene name                        feature_page\n",
       "20     Transcript name                            feature_page\n",
       "21     Source of transcript name                  feature_page\n",
       "22     Transcript count                           feature_page\n",
       "23     Gene % GC content                          feature_page\n",
       "24     Gene type                                  feature_page\n",
       "25     Transcript type                            feature_page\n",
       "26     Source (gene)                              feature_page\n",
       "27     Source (transcript)                        feature_page\n",
       "28     Version (gene)                             feature_page\n",
       "29     Version (transcript)                       feature_page\n",
       "30     Version (protein)                          feature_page\n",
       "<U+22EE> <U+22EE>                                   <U+22EE>    \n",
       "2936   5' UTR end                                 sequences   \n",
       "2937   3' UTR start                               sequences   \n",
       "2938   3' UTR end                                 sequences   \n",
       "2939   Transcript stable ID                       sequences   \n",
       "2940   Transcript stable ID version               sequences   \n",
       "2941   Protein stable ID                          sequences   \n",
       "2942   Protein stable ID version                  sequences   \n",
       "2943   Transcript type                            sequences   \n",
       "2944   Version (transcript)                       sequences   \n",
       "2945   Version (protein)                          sequences   \n",
       "2946   Strand                                     sequences   \n",
       "2947   Transcript start (bp)                      sequences   \n",
       "2948   Transcript end (bp)                        sequences   \n",
       "2949   Transcription start site (TSS)             sequences   \n",
       "2950   Transcript length (including UTRs and CDS) sequences   \n",
       "2951   CDS Length                                 sequences   \n",
       "2952   CDS start                                  sequences   \n",
       "2953   CDS end                                    sequences   \n",
       "2954   Exon stable ID                             sequences   \n",
       "2955   Exon region start (bp)                     sequences   \n",
       "2956   Exon region end (bp)                       sequences   \n",
       "2957   Strand                                     sequences   \n",
       "2958   Exon rank in transcript                    sequences   \n",
       "2959   Start phase                                sequences   \n",
       "2960   End phase                                  sequences   \n",
       "2961   cDNA coding start                          sequences   \n",
       "2962   cDNA coding end                            sequences   \n",
       "2963   Genomic coding start                       sequences   \n",
       "2964   Genomic coding end                         sequences   \n",
       "2965   Constitutive exon                          sequences   "
      ]
     },
     "metadata": {},
     "output_type": "display_data"
    }
   ],
   "source": [
    "listAttributes(ensembl.macaque)"
   ]
  },
  {
   "cell_type": "markdown",
   "metadata": {},
   "source": [
    "### 读取待转换的猴基因列表"
   ]
  },
  {
   "cell_type": "code",
   "execution_count": 31,
   "metadata": {
    "vscode": {
     "languageId": "r"
    }
   },
   "outputs": [],
   "source": [
    "rds <- readRDS(\"~/Documents/macaque_test.rds\")\n",
    "macaque_features <- rownames(rds@assays$RNA@counts)"
   ]
  },
  {
   "cell_type": "code",
   "execution_count": 51,
   "metadata": {
    "vscode": {
     "languageId": "r"
    }
   },
   "outputs": [
    {
     "data": {
      "text/html": [
       "<style>\n",
       ".list-inline {list-style: none; margin:0; padding: 0}\n",
       ".list-inline>li {display: inline-block}\n",
       ".list-inline>li:not(:last-child)::after {content: \"\\00b7\"; padding: 0 .5ex}\n",
       "</style>\n",
       "<ol class=list-inline><li>'ENSMMUG00000063905'</li><li>'ENSMMUG00000063949'</li><li>'ENSMMUG00000064080'</li><li>'ENSMMUG00000064558'</li><li>'ENSMMUG00000064560'</li><li>'ENSMMUG00000064584'</li><li>'ENSMMUG00000064661'</li><li>'ENSMMUG00000064689'</li><li>'ENSMMUG00000064858'</li><li>'ENSMMUG00000065031'</li><li>'ENSMMUG00000065132'</li><li>'ENSMMUG00000065141'</li><li>'ERVV.2'</li><li>'ETV3L'</li><li>'FCRL4'</li><li>'FGA'</li><li>'G6PC2'</li><li>'GABRR2'</li><li>'GC'</li><li>'GLT6D1'</li><li>'GPR15'</li><li>'KCNG4'</li><li>'KRT20'</li><li>'LDLRAD2'</li><li>'LINC00514'</li><li>'MAGEA8'</li><li>'MEFV'</li><li>'MPC1L'</li><li>'MUC20'</li><li>'NRTN'</li><li>'ODF4'</li><li>'OR12D2'</li><li>'OR4K13'</li><li>'OR8H3'</li><li>'PDZD3'</li><li>'PRR20G'</li><li>'PRSS54'</li><li>'RDH8'</li><li>'RGS21'</li><li>'SDS'</li><li>'SFN'</li><li>'SIRPG'</li><li>'SLC5A12'</li><li>'SNORD83A'</li><li>'SPANXN4'</li><li>'SPATA25'</li><li>'SPTLC3'</li><li>'TEX36'</li><li>'TFF1'</li><li>'TGM7'</li><li>'UBQLNL'</li></ol>\n"
      ],
      "text/latex": [
       "\\begin{enumerate*}\n",
       "\\item 'ENSMMUG00000063905'\n",
       "\\item 'ENSMMUG00000063949'\n",
       "\\item 'ENSMMUG00000064080'\n",
       "\\item 'ENSMMUG00000064558'\n",
       "\\item 'ENSMMUG00000064560'\n",
       "\\item 'ENSMMUG00000064584'\n",
       "\\item 'ENSMMUG00000064661'\n",
       "\\item 'ENSMMUG00000064689'\n",
       "\\item 'ENSMMUG00000064858'\n",
       "\\item 'ENSMMUG00000065031'\n",
       "\\item 'ENSMMUG00000065132'\n",
       "\\item 'ENSMMUG00000065141'\n",
       "\\item 'ERVV.2'\n",
       "\\item 'ETV3L'\n",
       "\\item 'FCRL4'\n",
       "\\item 'FGA'\n",
       "\\item 'G6PC2'\n",
       "\\item 'GABRR2'\n",
       "\\item 'GC'\n",
       "\\item 'GLT6D1'\n",
       "\\item 'GPR15'\n",
       "\\item 'KCNG4'\n",
       "\\item 'KRT20'\n",
       "\\item 'LDLRAD2'\n",
       "\\item 'LINC00514'\n",
       "\\item 'MAGEA8'\n",
       "\\item 'MEFV'\n",
       "\\item 'MPC1L'\n",
       "\\item 'MUC20'\n",
       "\\item 'NRTN'\n",
       "\\item 'ODF4'\n",
       "\\item 'OR12D2'\n",
       "\\item 'OR4K13'\n",
       "\\item 'OR8H3'\n",
       "\\item 'PDZD3'\n",
       "\\item 'PRR20G'\n",
       "\\item 'PRSS54'\n",
       "\\item 'RDH8'\n",
       "\\item 'RGS21'\n",
       "\\item 'SDS'\n",
       "\\item 'SFN'\n",
       "\\item 'SIRPG'\n",
       "\\item 'SLC5A12'\n",
       "\\item 'SNORD83A'\n",
       "\\item 'SPANXN4'\n",
       "\\item 'SPATA25'\n",
       "\\item 'SPTLC3'\n",
       "\\item 'TEX36'\n",
       "\\item 'TFF1'\n",
       "\\item 'TGM7'\n",
       "\\item 'UBQLNL'\n",
       "\\end{enumerate*}\n"
      ],
      "text/markdown": [
       "1. 'ENSMMUG00000063905'\n",
       "2. 'ENSMMUG00000063949'\n",
       "3. 'ENSMMUG00000064080'\n",
       "4. 'ENSMMUG00000064558'\n",
       "5. 'ENSMMUG00000064560'\n",
       "6. 'ENSMMUG00000064584'\n",
       "7. 'ENSMMUG00000064661'\n",
       "8. 'ENSMMUG00000064689'\n",
       "9. 'ENSMMUG00000064858'\n",
       "10. 'ENSMMUG00000065031'\n",
       "11. 'ENSMMUG00000065132'\n",
       "12. 'ENSMMUG00000065141'\n",
       "13. 'ERVV.2'\n",
       "14. 'ETV3L'\n",
       "15. 'FCRL4'\n",
       "16. 'FGA'\n",
       "17. 'G6PC2'\n",
       "18. 'GABRR2'\n",
       "19. 'GC'\n",
       "20. 'GLT6D1'\n",
       "21. 'GPR15'\n",
       "22. 'KCNG4'\n",
       "23. 'KRT20'\n",
       "24. 'LDLRAD2'\n",
       "25. 'LINC00514'\n",
       "26. 'MAGEA8'\n",
       "27. 'MEFV'\n",
       "28. 'MPC1L'\n",
       "29. 'MUC20'\n",
       "30. 'NRTN'\n",
       "31. 'ODF4'\n",
       "32. 'OR12D2'\n",
       "33. 'OR4K13'\n",
       "34. 'OR8H3'\n",
       "35. 'PDZD3'\n",
       "36. 'PRR20G'\n",
       "37. 'PRSS54'\n",
       "38. 'RDH8'\n",
       "39. 'RGS21'\n",
       "40. 'SDS'\n",
       "41. 'SFN'\n",
       "42. 'SIRPG'\n",
       "43. 'SLC5A12'\n",
       "44. 'SNORD83A'\n",
       "45. 'SPANXN4'\n",
       "46. 'SPATA25'\n",
       "47. 'SPTLC3'\n",
       "48. 'TEX36'\n",
       "49. 'TFF1'\n",
       "50. 'TGM7'\n",
       "51. 'UBQLNL'\n",
       "\n",
       "\n"
      ],
      "text/plain": [
       " [1] \"ENSMMUG00000063905\" \"ENSMMUG00000063949\" \"ENSMMUG00000064080\"\n",
       " [4] \"ENSMMUG00000064558\" \"ENSMMUG00000064560\" \"ENSMMUG00000064584\"\n",
       " [7] \"ENSMMUG00000064661\" \"ENSMMUG00000064689\" \"ENSMMUG00000064858\"\n",
       "[10] \"ENSMMUG00000065031\" \"ENSMMUG00000065132\" \"ENSMMUG00000065141\"\n",
       "[13] \"ERVV.2\"             \"ETV3L\"              \"FCRL4\"             \n",
       "[16] \"FGA\"                \"G6PC2\"              \"GABRR2\"            \n",
       "[19] \"GC\"                 \"GLT6D1\"             \"GPR15\"             \n",
       "[22] \"KCNG4\"              \"KRT20\"              \"LDLRAD2\"           \n",
       "[25] \"LINC00514\"          \"MAGEA8\"             \"MEFV\"              \n",
       "[28] \"MPC1L\"              \"MUC20\"              \"NRTN\"              \n",
       "[31] \"ODF4\"               \"OR12D2\"             \"OR4K13\"            \n",
       "[34] \"OR8H3\"              \"PDZD3\"              \"PRR20G\"            \n",
       "[37] \"PRSS54\"             \"RDH8\"               \"RGS21\"             \n",
       "[40] \"SDS\"                \"SFN\"                \"SIRPG\"             \n",
       "[43] \"SLC5A12\"            \"SNORD83A\"           \"SPANXN4\"           \n",
       "[46] \"SPATA25\"            \"SPTLC3\"             \"TEX36\"             \n",
       "[49] \"TFF1\"               \"TGM7\"               \"UBQLNL\"            "
      ]
     },
     "metadata": {},
     "output_type": "display_data"
    }
   ],
   "source": [
    "macaque_features[24100:24150]"
   ]
  },
  {
   "cell_type": "code",
   "execution_count": 66,
   "metadata": {
    "vscode": {
     "languageId": "r"
    }
   },
   "outputs": [],
   "source": [
    "macaque_features_id_l <- grepl(\"ENSMMUG\", macaque_features)\n",
    "\n",
    "macaque_features_symbol <- macaque_features[!macaque_features_id_l]\n",
    "macaque_features_id <- macaque_features[macaque_features_id_l]"
   ]
  },
  {
   "cell_type": "markdown",
   "metadata": {},
   "source": [
    "### 分别转换猴gene列表里的gene_symbol和gene_ID为人中的同源基因"
   ]
  },
  {
   "cell_type": "code",
   "execution_count": 65,
   "metadata": {
    "vscode": {
     "languageId": "r"
    }
   },
   "outputs": [
    {
     "data": {
      "text/html": [
       "<table class=\"dataframe\">\n",
       "<caption>A data.frame: 2 × 4</caption>\n",
       "<thead>\n",
       "\t<tr><th></th><th scope=col>Gene.stable.ID</th><th scope=col>Gene.name</th><th scope=col>Gene.stable.ID.1</th><th scope=col>Gene.name.1</th></tr>\n",
       "\t<tr><th></th><th scope=col>&lt;chr&gt;</th><th scope=col>&lt;chr&gt;</th><th scope=col>&lt;chr&gt;</th><th scope=col>&lt;chr&gt;</th></tr>\n",
       "</thead>\n",
       "<tbody>\n",
       "\t<tr><th scope=row>1</th><td>ENSMMUG00000065356</td><td>ND2 </td><td>ENSG00000198763</td><td>MT-ND2 </td></tr>\n",
       "\t<tr><th scope=row>2</th><td>ENSMMUG00000065375</td><td>ATP6</td><td>ENSG00000198899</td><td>MT-ATP6</td></tr>\n",
       "</tbody>\n",
       "</table>\n"
      ],
      "text/latex": [
       "A data.frame: 2 × 4\n",
       "\\begin{tabular}{r|llll}\n",
       "  & Gene.stable.ID & Gene.name & Gene.stable.ID.1 & Gene.name.1\\\\\n",
       "  & <chr> & <chr> & <chr> & <chr>\\\\\n",
       "\\hline\n",
       "\t1 & ENSMMUG00000065356 & ND2  & ENSG00000198763 & MT-ND2 \\\\\n",
       "\t2 & ENSMMUG00000065375 & ATP6 & ENSG00000198899 & MT-ATP6\\\\\n",
       "\\end{tabular}\n"
      ],
      "text/markdown": [
       "\n",
       "A data.frame: 2 × 4\n",
       "\n",
       "| <!--/--> | Gene.stable.ID &lt;chr&gt; | Gene.name &lt;chr&gt; | Gene.stable.ID.1 &lt;chr&gt; | Gene.name.1 &lt;chr&gt; |\n",
       "|---|---|---|---|---|\n",
       "| 1 | ENSMMUG00000065356 | ND2  | ENSG00000198763 | MT-ND2  |\n",
       "| 2 | ENSMMUG00000065375 | ATP6 | ENSG00000198899 | MT-ATP6 |\n",
       "\n"
      ],
      "text/plain": [
       "  Gene.stable.ID     Gene.name Gene.stable.ID.1 Gene.name.1\n",
       "1 ENSMMUG00000065356 ND2       ENSG00000198763  MT-ND2     \n",
       "2 ENSMMUG00000065375 ATP6      ENSG00000198899  MT-ATP6    "
      ]
     },
     "metadata": {},
     "output_type": "display_data"
    }
   ],
   "source": [
    "macaca2human.gene_symbol <- getLDS(attributes = c(\"ensembl_gene_id\", \"external_gene_name\"),\n",
    "                filters = c(\"external_gene_name\"),\n",
    "                values = macaque_features_symbol, \n",
    "                mart = ensembl.macaque,\n",
    "                attributesL = c(\"ensembl_gene_id\", \"external_gene_name\"),\n",
    "                martL = ensembl.human,\n",
    "                uniqueRows = T)\n",
    "\n",
    "head(macaca2human.gene_symbol,2)"
   ]
  },
  {
   "cell_type": "code",
   "execution_count": 67,
   "metadata": {
    "vscode": {
     "languageId": "r"
    }
   },
   "outputs": [
    {
     "data": {
      "text/html": [
       "<table class=\"dataframe\">\n",
       "<caption>A data.frame: 2 × 4</caption>\n",
       "<thead>\n",
       "\t<tr><th></th><th scope=col>Gene.stable.ID</th><th scope=col>Gene.name</th><th scope=col>Gene.stable.ID.1</th><th scope=col>Gene.name.1</th></tr>\n",
       "\t<tr><th></th><th scope=col>&lt;chr&gt;</th><th scope=col>&lt;chr&gt;</th><th scope=col>&lt;chr&gt;</th><th scope=col>&lt;chr&gt;</th></tr>\n",
       "</thead>\n",
       "<tbody>\n",
       "\t<tr><th scope=row>1</th><td>ENSMMUG00000056709</td><td></td><td>ENSG00000198695</td><td>MT-ND6</td></tr>\n",
       "\t<tr><th scope=row>2</th><td>ENSMMUG00000063555</td><td></td><td>ENSG00000198695</td><td>MT-ND6</td></tr>\n",
       "</tbody>\n",
       "</table>\n"
      ],
      "text/latex": [
       "A data.frame: 2 × 4\n",
       "\\begin{tabular}{r|llll}\n",
       "  & Gene.stable.ID & Gene.name & Gene.stable.ID.1 & Gene.name.1\\\\\n",
       "  & <chr> & <chr> & <chr> & <chr>\\\\\n",
       "\\hline\n",
       "\t1 & ENSMMUG00000056709 &  & ENSG00000198695 & MT-ND6\\\\\n",
       "\t2 & ENSMMUG00000063555 &  & ENSG00000198695 & MT-ND6\\\\\n",
       "\\end{tabular}\n"
      ],
      "text/markdown": [
       "\n",
       "A data.frame: 2 × 4\n",
       "\n",
       "| <!--/--> | Gene.stable.ID &lt;chr&gt; | Gene.name &lt;chr&gt; | Gene.stable.ID.1 &lt;chr&gt; | Gene.name.1 &lt;chr&gt; |\n",
       "|---|---|---|---|---|\n",
       "| 1 | ENSMMUG00000056709 | <!----> | ENSG00000198695 | MT-ND6 |\n",
       "| 2 | ENSMMUG00000063555 | <!----> | ENSG00000198695 | MT-ND6 |\n",
       "\n"
      ],
      "text/plain": [
       "  Gene.stable.ID     Gene.name Gene.stable.ID.1 Gene.name.1\n",
       "1 ENSMMUG00000056709           ENSG00000198695  MT-ND6     \n",
       "2 ENSMMUG00000063555           ENSG00000198695  MT-ND6     "
      ]
     },
     "metadata": {},
     "output_type": "display_data"
    }
   ],
   "source": [
    "macaca2human.gene_id <- getLDS(attributes = c(\"ensembl_gene_id\", \"external_gene_name\"),\n",
    "                filters = c(\"ensembl_gene_id\"),\n",
    "                values = macaque_features_id, \n",
    "                mart = ensembl.macaque,\n",
    "                attributesL = c(\"ensembl_gene_id\", \"external_gene_name\"),\n",
    "                martL = ensembl.human,\n",
    "                uniqueRows = T)\n",
    "\n",
    "head(macaca2human.gene_id, 2)"
   ]
  },
  {
   "cell_type": "markdown",
   "metadata": {},
   "source": [
    "#### \n",
    "* 去除未转换成功的gene\n",
    "* 去除macaque 重复的基因"
   ]
  },
  {
   "cell_type": "code",
   "execution_count": 68,
   "metadata": {
    "vscode": {
     "languageId": "r"
    }
   },
   "outputs": [
    {
     "data": {
      "text/html": [
       "<style>\n",
       ".list-inline {list-style: none; margin:0; padding: 0}\n",
       ".list-inline>li {display: inline-block}\n",
       ".list-inline>li:not(:last-child)::after {content: \"\\00b7\"; padding: 0 .5ex}\n",
       "</style>\n",
       "<ol class=list-inline><li>1457</li><li>4</li></ol>\n"
      ],
      "text/latex": [
       "\\begin{enumerate*}\n",
       "\\item 1457\n",
       "\\item 4\n",
       "\\end{enumerate*}\n"
      ],
      "text/markdown": [
       "1. 1457\n",
       "2. 4\n",
       "\n",
       "\n"
      ],
      "text/plain": [
       "[1] 1457    4"
      ]
     },
     "metadata": {},
     "output_type": "display_data"
    },
    {
     "data": {
      "text/html": [
       "<style>\n",
       ".list-inline {list-style: none; margin:0; padding: 0}\n",
       ".list-inline>li {display: inline-block}\n",
       ".list-inline>li:not(:last-child)::after {content: \"\\00b7\"; padding: 0 .5ex}\n",
       "</style>\n",
       "<ol class=list-inline><li>17213</li><li>4</li></ol>\n"
      ],
      "text/latex": [
       "\\begin{enumerate*}\n",
       "\\item 17213\n",
       "\\item 4\n",
       "\\end{enumerate*}\n"
      ],
      "text/markdown": [
       "1. 17213\n",
       "2. 4\n",
       "\n",
       "\n"
      ],
      "text/plain": [
       "[1] 17213     4"
      ]
     },
     "metadata": {},
     "output_type": "display_data"
    },
    {
     "data": {
      "text/html": [
       "<style>\n",
       ".list-inline {list-style: none; margin:0; padding: 0}\n",
       ".list-inline>li {display: inline-block}\n",
       ".list-inline>li:not(:last-child)::after {content: \"\\00b7\"; padding: 0 .5ex}\n",
       "</style>\n",
       "<ol class=list-inline><li>1005</li><li>4</li></ol>\n"
      ],
      "text/latex": [
       "\\begin{enumerate*}\n",
       "\\item 1005\n",
       "\\item 4\n",
       "\\end{enumerate*}\n"
      ],
      "text/markdown": [
       "1. 1005\n",
       "2. 4\n",
       "\n",
       "\n"
      ],
      "text/plain": [
       "[1] 1005    4"
      ]
     },
     "metadata": {},
     "output_type": "display_data"
    },
    {
     "data": {
      "text/html": [
       "<style>\n",
       ".list-inline {list-style: none; margin:0; padding: 0}\n",
       ".list-inline>li {display: inline-block}\n",
       ".list-inline>li:not(:last-child)::after {content: \"\\00b7\"; padding: 0 .5ex}\n",
       "</style>\n",
       "<ol class=list-inline><li>15282</li><li>4</li></ol>\n"
      ],
      "text/latex": [
       "\\begin{enumerate*}\n",
       "\\item 15282\n",
       "\\item 4\n",
       "\\end{enumerate*}\n"
      ],
      "text/markdown": [
       "1. 15282\n",
       "2. 4\n",
       "\n",
       "\n"
      ],
      "text/plain": [
       "[1] 15282     4"
      ]
     },
     "metadata": {},
     "output_type": "display_data"
    }
   ],
   "source": [
    "macaca2human.gene_id <- macaca2human.gene_id[macaca2human.gene_id$Gene.name.1 != \"\",]\n",
    "dim(macaca2human.gene_id)\n",
    "macaca2human.gene_symbol <- macaca2human.gene_symbol[macaca2human.gene_symbol$Gene.name.1 != \"\",]\n",
    "dim(macaca2human.gene_symbol)\n",
    "\n",
    "\n",
    "macaca2human.gene_id <- macaca2human.gene_id[duplicated(macaca2human.gene_id$Gene.stable.ID)==FALSE,]\n",
    "dim(macaca2human.gene_id)\n",
    "macaca2human.gene_symbol <- macaca2human.gene_symbol[duplicated(macaca2human.gene_symbol$Gene.name)==FALSE,]\n",
    "dim(macaca2human.gene_symbol)"
   ]
  },
  {
   "cell_type": "markdown",
   "metadata": {},
   "source": [
    "* 把macaque gene统一到Gene.name列\n",
    "* 合并symbol和ID分别对应的human中的同源基因\n",
    "* 去除多个macaque基因对应相同human gene的情况"
   ]
  },
  {
   "cell_type": "code",
   "execution_count": 69,
   "metadata": {
    "vscode": {
     "languageId": "r"
    }
   },
   "outputs": [
    {
     "data": {
      "text/html": [
       "<style>\n",
       ".list-inline {list-style: none; margin:0; padding: 0}\n",
       ".list-inline>li {display: inline-block}\n",
       ".list-inline>li:not(:last-child)::after {content: \"\\00b7\"; padding: 0 .5ex}\n",
       "</style>\n",
       "<ol class=list-inline><li>16287</li><li>4</li></ol>\n"
      ],
      "text/latex": [
       "\\begin{enumerate*}\n",
       "\\item 16287\n",
       "\\item 4\n",
       "\\end{enumerate*}\n"
      ],
      "text/markdown": [
       "1. 16287\n",
       "2. 4\n",
       "\n",
       "\n"
      ],
      "text/plain": [
       "[1] 16287     4"
      ]
     },
     "metadata": {},
     "output_type": "display_data"
    },
    {
     "data": {
      "text/html": [
       "<style>\n",
       ".list-inline {list-style: none; margin:0; padding: 0}\n",
       ".list-inline>li {display: inline-block}\n",
       ".list-inline>li:not(:last-child)::after {content: \"\\00b7\"; padding: 0 .5ex}\n",
       "</style>\n",
       "<ol class=list-inline><li>15945</li><li>4</li></ol>\n"
      ],
      "text/latex": [
       "\\begin{enumerate*}\n",
       "\\item 15945\n",
       "\\item 4\n",
       "\\end{enumerate*}\n"
      ],
      "text/markdown": [
       "1. 15945\n",
       "2. 4\n",
       "\n",
       "\n"
      ],
      "text/plain": [
       "[1] 15945     4"
      ]
     },
     "metadata": {},
     "output_type": "display_data"
    }
   ],
   "source": [
    "macaca2human.gene_id$Gene.name <- macaca2human.gene_id$Gene.stable.ID\n",
    "macaca2human <- rbind(macaca2human.gene_symbol, macaca2human.gene_id)\n",
    "dim(macaca2human)\n",
    "\n",
    "macaca2human <- macaca2human[duplicated(macaca2human$Gene.name.1)==FALSE,]\n",
    "dim(macaca2human)"
   ]
  },
  {
   "cell_type": "markdown",
   "metadata": {},
   "source": [
    "* 从rds中总的macaque_features中提取转换成human 同源基因成功的gene\n",
    "* 对原rds表达矩阵做subset，并替换macaque gene为对应转换的human gene"
   ]
  },
  {
   "cell_type": "code",
   "execution_count": 72,
   "metadata": {
    "vscode": {
     "languageId": "r"
    }
   },
   "outputs": [
    {
     "data": {
      "text/html": [
       "24333"
      ],
      "text/latex": [
       "24333"
      ],
      "text/markdown": [
       "24333"
      ],
      "text/plain": [
       "[1] 24333"
      ]
     },
     "metadata": {},
     "output_type": "display_data"
    },
    {
     "data": {
      "text/html": [
       "<style>\n",
       ".list-inline {list-style: none; margin:0; padding: 0}\n",
       ".list-inline>li {display: inline-block}\n",
       ".list-inline>li:not(:last-child)::after {content: \"\\00b7\"; padding: 0 .5ex}\n",
       "</style>\n",
       "<ol class=list-inline><li>24333</li><li>1</li></ol>\n"
      ],
      "text/latex": [
       "\\begin{enumerate*}\n",
       "\\item 24333\n",
       "\\item 1\n",
       "\\end{enumerate*}\n"
      ],
      "text/markdown": [
       "1. 24333\n",
       "2. 1\n",
       "\n",
       "\n"
      ],
      "text/plain": [
       "[1] 24333     1"
      ]
     },
     "metadata": {},
     "output_type": "display_data"
    },
    {
     "data": {
      "text/html": [
       "<style>\n",
       ".list-inline {list-style: none; margin:0; padding: 0}\n",
       ".list-inline>li {display: inline-block}\n",
       ".list-inline>li:not(:last-child)::after {content: \"\\00b7\"; padding: 0 .5ex}\n",
       "</style>\n",
       "<ol class=list-inline><li>24333</li><li>1</li></ol>\n"
      ],
      "text/latex": [
       "\\begin{enumerate*}\n",
       "\\item 24333\n",
       "\\item 1\n",
       "\\end{enumerate*}\n"
      ],
      "text/markdown": [
       "1. 24333\n",
       "2. 1\n",
       "\n",
       "\n"
      ],
      "text/plain": [
       "[1] 24333     1"
      ]
     },
     "metadata": {},
     "output_type": "display_data"
    },
    {
     "data": {
      "text/html": [
       "<style>\n",
       ".list-inline {list-style: none; margin:0; padding: 0}\n",
       ".list-inline>li {display: inline-block}\n",
       ".list-inline>li:not(:last-child)::after {content: \"\\00b7\"; padding: 0 .5ex}\n",
       "</style>\n",
       "<ol class=list-inline><li>24333</li><li>1</li></ol>\n"
      ],
      "text/latex": [
       "\\begin{enumerate*}\n",
       "\\item 24333\n",
       "\\item 1\n",
       "\\end{enumerate*}\n"
      ],
      "text/markdown": [
       "1. 24333\n",
       "2. 1\n",
       "\n",
       "\n"
      ],
      "text/plain": [
       "[1] 24333     1"
      ]
     },
     "metadata": {},
     "output_type": "display_data"
    }
   ],
   "source": [
    "macaca_features_df <- data.frame(macaque_features)\n",
    "length(macaque_features)\n",
    "dim(macaca_features_df)\n",
    "row.names(macaca_features_df) <- macaque_features\n",
    "dim(macaca_features_df)\n",
    "macaca_features_df[macaca2human$Gene.name, \"macaque_features\"] <- macaca2human$Gene.name.1\n",
    "dim(macaca_features_df)"
   ]
  },
  {
   "cell_type": "code",
   "execution_count": 73,
   "metadata": {
    "vscode": {
     "languageId": "r"
    }
   },
   "outputs": [],
   "source": [
    "macacaque_human_symbol <- subset(macaca_features_df, duplicated(macaca_features_df$macaque_features)==FALSE)\n",
    "\n",
    "macaca_mat <- data.frame(rds@assays$RNA@counts)\n",
    "macaca_mat <- macaca_mat[rownames(macacaque_human_symbol),]\n",
    "rownames(macaca_mat) <- macacaque_human_symbol$macaque_features"
   ]
  },
  {
   "cell_type": "markdown",
   "metadata": {
    "vscode": {
     "languageId": "r"
    }
   },
   "source": [
    "# 文档地址\n",
    "* https://github.com/seqyuan/cortex/Species_homologous_gene_conversion.ipynb"
   ]
  }
 ],
 "metadata": {
  "kernelspec": {
   "display_name": "R",
   "language": "R",
   "name": "ir"
  },
  "language_info": {
   "codemirror_mode": "r",
   "file_extension": ".r",
   "mimetype": "text/x-r-source",
   "name": "R",
   "pygments_lexer": "r",
   "version": "4.0.4"
  },
  "orig_nbformat": 4
 },
 "nbformat": 4,
 "nbformat_minor": 2
}
